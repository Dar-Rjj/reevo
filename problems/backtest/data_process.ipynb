{
 "cells": [
  {
   "cell_type": "code",
   "execution_count": null,
   "id": "e1679a6f",
   "metadata": {},
   "outputs": [],
   "source": [
    "import os\n",
    "from os import path\n",
    "import pandas as pd\n",
    "import sys\n",
    "basepath = path.join(os.getcwd(), \"export_cn_ex\")"
   ]
  },
  {
   "cell_type": "code",
   "execution_count": 2,
   "id": "3ecffefb",
   "metadata": {},
   "outputs": [
    {
     "name": "stdout",
     "output_type": "stream",
     "text": [
      "['SZ000511.csv', 'SH600312.csv', 'SH601319.csv', 'SZ300769.csv', 'SH600566.csv', 'SZ300207.csv', 'SH600581.csv', 'SH601788.csv', 'SH600887.csv', 'SZ000800.csv', 'SH600601.csv', 'SZ000627.csv', 'SZ002371.csv', 'SH601360.csv', 'SH600161.csv', 'SZ002183.csv', 'SZ002602.csv', 'SH600535.csv', 'SH600198.csv', 'SH601916.csv', 'SH601666.csv', 'SZ000060.csv', 'SZ002120.csv', 'SZ000962.csv', 'SH603392.csv', 'SH600027.csv', 'SZ000027.csv', 'SH603260.csv', 'SH600760.csv', 'SH600035.csv', 'SZ000066.csv', 'SZ300919.csv', 'SZ000961.csv', 'SH601991.csv', 'SH600221.csv', 'SZ002230.csv', 'SZ000758.csv', 'SZ000937.csv', 'SH601555.csv', 'SH600121.csv', 'SH600276.csv', 'SH600895.csv', 'SH601236.csv', 'SH603185.csv', 'SH601699.csv', 'SH600961.csv', 'SZ002146.csv', 'SH600118.csv', 'SZ002110.csv', 'SZ000686.csv', 'SH601162.csv', 'SH601607.csv', 'SZ002916.csv', 'SH600616.csv', 'SZ300002.csv', 'SH600282.csv', 'SH601933.csv', 'SH601558.csv', 'SZ000703.csv', 'SH601728.csv', 'SZ002292.csv', 'SZ002174.csv', 'SH600582.csv', 'SH603986.csv', 'SZ002594.csv', 'SZ000750.csv', 'SH600108.csv', 'SZ300015.csv', 'SZ300763.csv', 'SH600219.csv', 'SZ002294.csv', 'SZ002032.csv', 'SH600941.csv', 'SH600690.csv', 'SH600597.csv', 'SZ000550.csv', 'SH601901.csv', 'SZ002558.csv', 'SH600266.csv', 'SZ002925.csv', 'SZ000869.csv', 'SZ002078.csv', 'SH600048.csv', 'SZ000960.csv', 'SH600315.csv', 'SH600239.csv', 'SH601238.csv', 'SH600325.csv', 'SZ002050.csv', 'SZ002466.csv', 'SZ002470.csv', 'SZ002411.csv', 'SZ002049.csv', 'SH600373.csv', 'SH600569.csv', 'SH600635.csv', 'SH600628.csv', 'SZ000021.csv', 'SH600016.csv', 'SZ000970.csv', 'SH601818.csv', 'SH600352.csv', 'SZ002756.csv', 'SZ300866.csv', 'SH600744.csv', 'SH600380.csv', 'SZ300024.csv', 'SZ000900.csv', 'SH603338.csv', 'SH600138.csv', 'SH601825.csv', 'SH600761.csv', 'SH600516.csv', 'SZ300628.csv', 'SH600316.csv', 'SZ000088.csv', 'SH600333.csv', 'SH600834.csv', 'SH600648.csv', 'SZ002353.csv', 'SH605499.csv', 'SH600879.csv', 'SH600062.csv', 'SH688012.csv', 'SH603833.csv', 'SH688111.csv', 'SZ002064.csv', 'SZ002625.csv', 'SZ002468.csv', 'SZ000897.csv', 'SH600871.csv', 'SZ001965.csv', 'SZ002456.csv', 'SZ002410.csv', 'SH600132.csv', 'SH600307.csv', 'SZ002152.csv', 'SH601689.csv', 'SH600521.csv', 'SH600848.csv', 'SZ002028.csv', 'SH600997.csv', 'SH600031.csv', 'SH603369.csv', 'SZ000301.csv', 'SZ002709.csv', 'SH600432.csv', 'SZ000410.csv', 'SZ002131.csv', 'SH688009.csv', 'SZ300750.csv', 'SH600740.csv', 'SZ000036.csv', 'SH600595.csv', 'SH601577.csv', 'SH600655.csv', 'SZ000876.csv', 'SZ000001.csv', 'SZ002797.csv', 'SH600346.csv', 'SH601929.csv', 'SH601005.csv', 'SH600109.csv', 'SH600398.csv', 'SH600030.csv', 'SH688561.csv', 'SH600300.csv', 'SH600233.csv', 'SH601828.csv', 'SH600519.csv', 'SH600188.csv', 'SH601066.csv', 'SH601958.csv', 'SZ000651.csv', 'SH601816.csv', 'SH600726.csv', 'SZ000999.csv', 'SH600909.csv', 'SZ000031.csv', 'SH601001.csv', 'SH601888.csv', 'SH601108.csv', 'SH601398.csv', 'SH600207.csv', 'SZ002051.csv', 'SH601611.csv', 'SH600029.csv', 'SH600707.csv', 'SZ000601.csv', 'SZ000778.csv', 'SH600928.csv', 'SZ002097.csv', 'SH600383.csv', 'SZ002426.csv', 'SH688396.csv', 'SH603939.csv', 'SH600196.csv', 'SZ300601.csv', 'SH601016.csv', 'SZ002083.csv', 'SZ000536.csv', 'SH601106.csv', 'SH600868.csv', 'SZ300003.csv', 'SZ000596.csv', 'SZ002736.csv', 'SZ000415.csv', 'SZ000408.csv', 'SH600977.csv', 'SZ002074.csv', 'SZ000666.csv', 'SH600733.csv', 'SZ000157.csv', 'SZ000767.csv', 'SZ000780.csv', 'SH600790.csv', 'SH600170.csv', 'SH600000.csv', 'SZ000755.csv', 'SZ000939.csv', 'SH601633.csv', 'SZ002180.csv', 'SH601127.csv', 'SH601615.csv', 'SZ002157.csv', 'SH600026.csv', 'SZ000667.csv', 'SZ000630.csv', 'SH600585.csv', 'SH600220.csv', 'SZ000682.csv', 'SH600999.csv', 'SH688599.csv', 'SH600460.csv', 'SH600399.csv', 'SH605117.csv', 'SH600588.csv', 'SH600549.csv', 'SH688126.csv', 'SH601009.csv', 'SH601698.csv', 'SZ002493.csv', 'SZ000629.csv', 'SH601658.csv', 'SH603288.csv', 'SZ300760.csv', 'SH688065.csv', 'SZ000875.csv', 'SH600021.csv', 'SZ002508.csv', 'SZ000100.csv', 'SZ000717.csv', 'SH601318.csv', 'SH600317.csv', 'SH600926.csv', 'SZ000008.csv', 'SH600079.csv', 'SH601018.csv', 'SH600028.csv', 'SZ300408.csv', 'SH601899.csv', 'SH600406.csv', 'SZ000599.csv', 'SH601186.csv', 'SZ000543.csv', 'SZ000983.csv', 'SH600038.csv', 'SZ300122.csv', 'SZ000009.csv', 'SH601169.csv', 'SH600649.csv', 'SH600875.csv', 'SZ002128.csv', 'SZ300529.csv', 'SZ002195.csv', 'SH600210.csv', 'SH601696.csv', 'SZ000659.csv', 'SH600900.csv', 'SH600066.csv', 'SH600517.csv', 'SZ000680.csv', 'SH688303.csv', 'SH601600.csv', 'SH600718.csv', 'SH600012.csv', 'SH600456.csv', 'SZ000002.csv', 'SZ002839.csv', 'SH601866.csv', 'SZ002236.csv', 'SH600633.csv', 'SZ002001.csv', 'SH603195.csv', 'SZ300782.csv', 'SZ000069.csv', 'SH603659.csv', 'SH600017.csv', 'SH600905.csv', 'SZ002555.csv', 'SH601997.csv', 'SH600805.csv', 'SH600200.csv', 'SH600074.csv', 'SH600978.csv', 'SH600158.csv', 'SZ000061.csv', 'SH601155.csv', 'SZ002311.csv', 'SH601111.csv', 'SH600436.csv', 'SZ000729.csv', 'SZ300014.csv', 'SH600812.csv', 'SZ300124.csv', 'SH601990.csv', 'SH600845.csv', 'SZ300033.csv', 'SH600361.csv', 'SH600350.csv', 'SZ300896.csv', 'SH603799.csv', 'SH600005.csv', 'SH600498.csv', 'SH600854.csv', 'SZ300168.csv', 'SZ002460.csv', 'SH601995.csv', 'SH603858.csv', 'SH600827.csv', 'SH600919.csv', 'SZ300498.csv', 'SZ300957.csv', 'SZ000975.csv', 'SH600252.csv', 'SH603882.csv', 'SH600482.csv', 'SZ000707.csv', 'SH600438.csv', 'SZ002648.csv', 'SH601881.csv', 'SH600125.csv', 'SH601588.csv', 'SH600231.csv', 'SZ002572.csv', 'SZ000503.csv', 'SH600415.csv', 'SZ002052.csv', 'SZ000413.csv', 'SH600183.csv', 'SH601601.csv', 'SH601258.csv', 'SZ002465.csv', 'SH600340.csv', 'SZ000520.csv', 'SH601988.csv', 'SH688187.csv', 'SH600497.csv', 'SH603486.csv', 'SH600050.csv', 'SH600783.csv', 'SZ002242.csv', 'SZ000568.csv', 'SH603885.csv', 'SH600837.csv', 'SZ000402.csv', 'SH600039.csv', 'SZ002416.csv', 'SH600126.csv', 'SZ300413.csv', 'SZ000698.csv', 'SZ002025.csv', 'SZ000617.csv', 'SH600737.csv', 'SZ000012.csv', 'SH600061.csv', 'SH601669.csv', 'SZ002299.csv', 'SZ000723.csv', 'SH600660.csv', 'SH600169.csv', 'SZ300142.csv', 'SH600652.csv', 'SH600058.csv', 'SH600754.csv', 'SZ002378.csv', 'SH600018.csv', 'SH600171.csv', 'SH600143.csv', 'SH600639.csv', 'SZ000825.csv', 'SH601390.csv', 'SH600782.csv', 'SZ002831.csv', 'SH600426.csv', 'SH600123.csv', 'SZ002271.csv', 'SZ300296.csv', 'SZ000826.csv', 'SH600331.csv', 'SZ000166.csv', 'SZ000059.csv', 'SZ300274.csv', 'SH600320.csv', 'SZ000822.csv', 'SH600098.csv', 'SH600598.csv', 'SH600376.csv', 'SH600654.csv', 'SZ300496.csv', 'SZ000652.csv', 'SH601211.csv', 'SH601877.csv', 'SH601628.csv', 'SH600811.csv', 'SH600816.csv', 'SH601336.csv', 'SH600741.csv', 'SZ000607.csv', 'SZ000623.csv', 'SZ002399.csv', 'SZ000877.csv', 'SZ002624.csv', 'SZ002714.csv', 'SZ000338.csv', 'SZ002069.csv', 'SH600068.csv', 'SH600611.csv', 'SH600110.csv', 'SH601021.csv', 'SH600717.csv', 'SZ000949.csv', 'SZ300316.csv', 'SH600584.csv', 'SH600251.csv', 'SZ000959.csv', 'SH600372.csv', 'SH600894.csv', 'SH601928.csv', 'SZ002459.csv', 'SH601012.csv', 'SH603699.csv', 'SZ000046.csv', 'SH600111.csv', 'SH601163.csv', 'SH600797.csv', 'SZ002179.csv', 'SZ000039.csv', 'SZ000761.csv', 'SH601231.csv', 'SH600968.csv', 'SZ300433.csv', 'SH600020.csv', 'SH601801.csv', 'SH600023.csv', 'SH600033.csv', 'SZ300027.csv', 'SZ002007.csv', 'SH600215.csv', 'SH600657.csv', 'SZ000776.csv', 'SH601107.csv', 'SH600100.csv', 'SH600010.csv', 'SZ000656.csv', 'SH600508.csv', 'SH600022.csv', 'SZ002739.csv', 'SH600091.csv', 'SZ002275.csv', 'SZ000528.csv', 'SH600299.csv', 'SH600332.csv', 'SH601369.csv', 'SH600500.csv', 'SZ000063.csv', 'SZ002500.csv', 'SH601179.csv', 'SH600866.csv', 'SZ300759.csv', 'SZ000916.csv', 'SH600608.csv', 'SH600485.csv', 'SZ002450.csv', 'SZ000156.csv', 'SH600886.csv', 'SZ000839.csv', 'SZ002812.csv', 'SH600216.csv', 'SH600704.csv', 'SZ002202.csv', 'SH600269.csv', 'SH600642.csv', 'SZ000671.csv', 'SZ000860.csv', 'SH600006.csv', 'SH600653.csv', 'SH601099.csv', 'SH600918.csv', 'SH600874.csv', 'SZ000806.csv', 'SZ000969.csv', 'SH600747.csv', 'SZ002038.csv', 'SH600395.csv', 'SH600487.csv', 'SH688036.csv', 'SZ000625.csv', 'SH600115.csv', 'SZ000977.csv', 'SZ300888.csv', 'SH601992.csv', 'SH601838.csv', 'SH600739.csv', 'SZ002424.csv', 'SH600547.csv', 'SH600851.csv', 'SZ300454.csv', 'SZ002073.csv', 'SH600308.csv', 'SZ000878.csv', 'SH600246.csv', 'SZ002310.csv', 'SZ000423.csv', 'SZ002129.csv', 'SZ000783.csv', 'SH600804.csv', 'SZ000786.csv', 'SH600881.csv', 'SZ000829.csv', 'SZ000089.csv', 'SZ000068.csv', 'SH600872.csv', 'SH603658.csv', 'SZ000539.csv', 'SZ002603.csv', 'SH600873.csv', 'SZ300999.csv', 'SH601298.csv', 'SH601918.csv', 'SZ002044.csv', 'SH600638.csv', 'SZ000933.csv', 'SH601668.csv', 'SH600060.csv', 'SZ000930.csv', 'SH600390.csv', 'SZ000917.csv', 'SH600674.csv', 'SH600177.csv', 'SZ002958.csv', 'SZ000553.csv', 'SH601989.csv', 'SH600770.csv', 'SH600270.csv', 'SH600780.csv', 'SZ000099.csv', 'SH600570.csv', 'SH600835.csv', 'SH601519.csv', 'SH600893.csv', 'SH603156.csv', 'SH600104.csv', 'SZ000709.csv', 'SZ300059.csv', 'SH600153.csv', 'SH601002.csv', 'SZ000886.csv', 'SH601939.csv', 'SZ002673.csv', 'SH600839.csv', 'SZ002463.csv', 'SZ002092.csv', 'SH603993.csv', 'SH600998.csv', 'SH601985.csv', 'SZ002385.csv', 'SH600151.csv', 'SZ000951.csv', 'SZ000488.csv', 'SZ001289.csv', 'SH600522.csv', 'SH600621.csv', 'SH600959.csv', 'SZ000422.csv', 'SH600481.csv', 'SH600803.csv', 'SZ002570.csv', 'SZ000572.csv', 'SH600236.csv', 'SZ300058.csv', 'SZ000828.csv', 'SH600970.csv', 'SZ300085.csv', 'SH600548.csv', 'SH600546.csv', 'SZ300677.csv', 'SZ300182.csv', 'SH603501.csv', 'SH601228.csv', 'SH600008.csv', 'SH601212.csv', 'SZ000029.csv', 'SH600643.csv', 'SH601158.csv', 'SH600004.csv', 'SZ300133.csv', 'SH600057.csv', 'SH601718.csv', 'SZ002241.csv', 'SZ000401.csv', 'SZ000735.csv', 'SH603019.csv', 'SZ002939.csv', 'SH603517.csv', 'SZ002142.csv', 'SH600501.csv', 'SZ000718.csv', 'SH600271.csv', 'SH600377.csv', 'SZ000738.csv', 'SH600528.csv', 'SH600703.csv', 'SH601117.csv', 'SZ000883.csv', 'SZ000559.csv', 'SH600297.csv', 'SH600403.csv', 'SZ300251.csv', 'SZ300104.csv', 'SH601919.csv', 'SZ000425.csv', 'SH600009.csv', 'SZ000573.csv', 'SZ002008.csv', 'SZ000963.csv', 'SZ000712.csv', 'SZ002252.csv', 'SH600662.csv', 'SH600880.csv', 'SZ000631.csv', 'SZ000968.csv', 'SZ300661.csv', 'SZ002106.csv', 'SH600694.csv', 'SZ000685.csv', 'SZ002065.csv', 'SH600550.csv', 'SZ000429.csv', 'SZ001979.csv', 'SH601100.csv', 'SZ000538.csv', 'SZ002415.csv', 'SH601216.csv', 'SZ002422.csv', 'SH601377.csv', 'SZ000807.csv', 'SH600682.csv', 'SH688008.csv', 'SH600088.csv', 'SH600339.csv', 'SZ002244.csv', 'SZ300558.csv', 'SH600089.csv', 'SZ002155.csv', 'SH601799.csv', 'SZ002821.csv', 'SH600596.csv', 'SZ300595.csv', 'SH600820.csv', 'SH600489.csv', 'SH603899.csv', 'SH600096.csv', 'SZ000737.csv', 'SZ002375.csv', 'SH603233.csv', 'SZ000581.csv', 'SH600748.csv', 'SH601166.csv', 'SZ000927.csv', 'SH601857.csv', 'SH601766.csv', 'SH600085.csv', 'SH600267.csv', 'SH601566.csv', 'SH601229.csv', 'SZ000751.csv', 'SH601098.csv', 'SH600809.csv', 'SH601233.csv', 'SH601328.csv', 'SH600705.csv', 'SZ000555.csv', 'SZ300751.csv', 'SH688363.csv', 'SH601608.csv', 'SH600036.csv', 'SH601865.csv', 'SH601198.csv', 'SH603290.csv', 'SH600745.csv', 'SZ002384.csv', 'SZ000793.csv', 'SZ002153.csv', 'SH600685.csv', 'SZ000725.csv', 'SH603087.csv', 'SZ000831.csv', 'SZ002344.csv', 'SZ000024.csv', 'SH600600.csv', 'SH600025.csv', 'SZ000533.csv', 'SZ000636.csv', 'SH600256.csv', 'SZ000708.csv', 'SH600795.csv', 'SH600666.csv', 'SH600410.csv', 'SZ000920.csv', 'SH600037.csv', 'SH600732.csv', 'SZ000792.csv', 'SZ002608.csv', 'SH601998.csv', 'SH600989.csv', 'SH603000.csv', 'SH601003.csv', 'SZ002352.csv', 'SH600867.csv', 'SZ000690.csv', 'SH600015.csv', 'SH603160.csv', 'SZ002405.csv', 'SZ000598.csv', 'SZ002194.csv', 'SH601966.csv', 'SZ002841.csv', 'SH600583.csv', 'SH601088.csv', 'SZ000661.csv', 'SH600176.csv', 'SZ000400.csv', 'SZ000507.csv', 'SZ000768.csv', 'SH600369.csv', 'SZ002607.csv', 'SH600277.csv', 'SZ000733.csv', 'SH600208.csv', 'SZ300072.csv', 'SH601288.csv', 'SZ002081.csv', 'SH600663.csv', 'SH600602.csv', 'SH600157.csv', 'SH600724.csv', 'SZ000912.csv', 'SZ300676.csv', 'SH600884.csv', 'SH600787.csv', 'SZ000016.csv', 'SH600606.csv', 'SH601101.csv', 'SZ002085.csv', 'SH688169.csv', 'SZ000728.csv', 'SH601077.csv', 'SH600675.csv', 'SH600859.csv', 'SH600664.csv', 'SZ300450.csv', 'SH688005.csv', 'SH601139.csv', 'SZ002024.csv', 'SZ000727.csv', 'SH601808.csv', 'SH601868.csv', 'SH600808.csv', 'SZ002122.csv', 'SH601717.csv', 'SH601898.csv', 'SZ300144.csv', 'SH603806.csv', 'SH600150.csv', 'SH600958.csv', 'SH600073.csv', 'SZ000895.csv', 'SH600007.csv', 'SH601872.csv', 'SH600428.csv', 'SZ002400.csv', 'SZ000518.csv', 'SH601688.csv', 'SH601727.csv', 'SH600103.csv', 'SZ002027.csv', 'SZ000571.csv', 'SZ000540.csv', 'SH601118.csv', 'SH601299.csv', 'SZ300979.csv', 'SH601006.csv', 'SZ300223.csv', 'SZ300347.csv', 'SZ000541.csv', 'SZ002945.csv', 'SZ300070.csv', 'SZ002653.csv', 'SH600578.csv', 'SH688223.csv', 'SZ300017.csv', 'SZ300136.csv', 'SH600011.csv', 'SZ002601.csv', 'SZ002414.csv', 'SZ002938.csv', 'SH601878.csv', 'SH601333.csv', 'SH600779.csv', 'SZ000932.csv', 'SH601168.csv', 'SH600763.csv', 'SH600362.csv', 'SH601225.csv', 'SZ003816.csv', 'SH600518.csv', 'SH600019.csv', 'SZ300315.csv', 'SZ000726.csv', 'SH600971.csv', 'SZ002498.csv', 'SZ000333.csv', 'SH600823.csv', 'SH601969.csv', 'SH600309.csv', 'SZ002773.csv', 'SH600117.csv', 'SH601800.csv', 'SZ300146.csv', 'SH600863.csv', 'SH600166.csv', 'SZ000858.csv', 'SH600348.csv', 'SH600078.csv', 'SH601618.csv', 'SH600408.csv', 'SZ000612.csv', 'SH601375.csv', 'SH601138.csv', 'SZ002269.csv', 'SH600637.csv', 'SZ002475.csv', 'SZ002429.csv', 'SH600418.csv', 'SZ002010.csv', 'SZ000938.csv', 'SH600688.csv', 'SH600160.csv', 'SH688981.csv', 'SH603259.csv', 'SH600259.csv', 'SH600446.csv', 'SZ002304.csv', 'SZ000997.csv', 'SZ002791.csv', 'SZ002920.csv', 'SZ000898.csv', 'SZ002600.csv', 'SZ002568.csv', 'SH600190.csv', 'SZ002431.csv']\n"
     ]
    }
   ],
   "source": [
    "file_names = os.listdir(basepath)\n",
    "print(file_names)"
   ]
  },
  {
   "cell_type": "code",
   "execution_count": 3,
   "id": "c39a25c4",
   "metadata": {},
   "outputs": [
    {
     "name": "stdout",
     "output_type": "stream",
     "text": [
      "                            open       high        low      close   preclose  \\\n",
      "stock_code date                                                                \n",
      "SH600000   2015-05-04  67.162262  67.162262  65.669767  66.453327  67.423448   \n",
      "           2015-05-05  66.154828  66.229452  62.871339  63.729524  66.453327   \n",
      "           2015-05-06  63.729524  65.333956  63.319088  63.654899  63.729524   \n",
      "           2015-05-07  63.542962  64.475771  63.356400  63.692211  63.654899   \n",
      "           2015-05-08  64.139960  64.550396  62.759402  63.841461  63.692211   \n",
      "\n",
      "                             volume        amount      turn  tradestatus  \\\n",
      "stock_code date                                                            \n",
      "SH600000   2015-05-04  6.916328e+07  4.597699e+09  1.729333          1.0   \n",
      "           2015-05-05  1.006064e+08  6.483576e+09  2.515527          1.0   \n",
      "           2015-05-06  8.136923e+07  5.225100e+09  2.034527          1.0   \n",
      "           2015-05-07  5.745835e+07  3.674226e+09  1.436668          1.0   \n",
      "           2015-05-08  4.946349e+07  3.151168e+09  1.236767          1.0   \n",
      "\n",
      "                       pctChg  ...  mfd_buyamt_d_tradertype_3  \\\n",
      "stock_code date                ...                              \n",
      "SH600000   2015-05-04 -1.4389  ...               1.248131e+09   \n",
      "           2015-05-05 -4.0988  ...               2.006493e+09   \n",
      "           2015-05-06 -0.1171  ...               1.425583e+09   \n",
      "           2015-05-07  0.0586  ...               1.037165e+09   \n",
      "           2015-05-08  0.2343  ...               1.033187e+09   \n",
      "\n",
      "                       mfd_buyamt_d_tradertype_4  mfd_sellamt_a_tradertype_1  \\\n",
      "stock_code date                                                                \n",
      "SH600000   2015-05-04               6.606865e+08                7.332165e+08   \n",
      "           2015-05-05               1.152258e+09                1.030228e+09   \n",
      "           2015-05-06               6.510926e+08                5.612670e+08   \n",
      "           2015-05-07               4.281594e+08                5.251241e+08   \n",
      "           2015-05-08               5.107889e+08                3.420087e+08   \n",
      "\n",
      "                       mfd_sellamt_a_tradertype_2  mfd_sellamt_a_tradertype_3  \\\n",
      "stock_code date                                                                 \n",
      "SH600000   2015-05-04                 335995326.0                 208659416.0   \n",
      "           2015-05-05                 470682752.0                 276665924.0   \n",
      "           2015-05-06                 287723258.0                 258538191.0   \n",
      "           2015-05-07                 241635122.0                 192351861.0   \n",
      "           2015-05-08                 247234745.0                 185547818.0   \n",
      "\n",
      "                       mfd_sellamt_a_tradertype_4  mfd_sellamt_d_tradertype_1  \\\n",
      "stock_code date                                                                 \n",
      "SH600000   2015-05-04                 104453607.0                1.578128e+09   \n",
      "           2015-05-05                 176790256.0                2.072271e+09   \n",
      "           2015-05-06                 126640831.0                1.543182e+09   \n",
      "           2015-05-07                  84272716.0                1.104186e+09   \n",
      "           2015-05-08                  75212914.0                7.332624e+08   \n",
      "\n",
      "                       mfd_sellamt_d_tradertype_2  mfd_sellamt_d_tradertype_3  \\\n",
      "stock_code date                                                                 \n",
      "SH600000   2015-05-04                1.314677e+09                1.164817e+09   \n",
      "           2015-05-05                1.830690e+09                1.716319e+09   \n",
      "           2015-05-06                1.508005e+09                1.504065e+09   \n",
      "           2015-05-07                1.013592e+09                1.090191e+09   \n",
      "           2015-05-08                9.538079e+08                1.019604e+09   \n",
      "\n",
      "                      mfd_sellamt_d_tradertype_4  \n",
      "stock_code date                                   \n",
      "SH600000   2015-05-04                540073185.0  \n",
      "           2015-05-05                864075566.0  \n",
      "           2015-05-06                669588143.0  \n",
      "           2015-05-07                466198279.0  \n",
      "           2015-05-08                444355600.0  \n",
      "\n",
      "[5 rows x 39 columns]\n"
     ]
    }
   ],
   "source": [
    "import os\n",
    "import pandas as pd\n",
    "\n",
    "\n",
    "# 读取csi300.txt中的股票代码\n",
    "with open(\"csi300.txt\", \"r\") as f:\n",
    "    stock_codes = [line.strip() for line in f.readlines()]\n",
    "\n",
    "dfs = []\n",
    "for stock_code in stock_codes:\n",
    "    fname = f\"{stock_code[:8]}.csv\"\n",
    "    fpath = os.path.join(basepath, fname)\n",
    "    if os.path.exists(fpath):\n",
    "        df = pd.read_csv(fpath, parse_dates=['date'])\n",
    "        df['stock_code'] = stock_code[:8]\n",
    "        dfs.append(df)\n",
    "\n",
    "all_df = pd.concat(dfs, ignore_index=True)\n",
    "all_df.set_index(['stock_code', 'date'], inplace=True)\n",
    "all_df.sort_index(inplace=True)\n",
    "\n",
    "print(all_df.head())"
   ]
  },
  {
   "cell_type": "code",
   "execution_count": 4,
   "id": "b177ccde",
   "metadata": {},
   "outputs": [],
   "source": [
    "all_df.to_csv(\"all_stock_data.csv\")"
   ]
  },
  {
   "cell_type": "code",
   "execution_count": null,
   "id": "c0779443",
   "metadata": {},
   "outputs": [],
   "source": [
    "all_df_loaded = pd.read_csv(\"all_stock_data.csv\", parse_dates=['date'])\n",
    "all_df_loaded.set_index(['stock_code', 'date'], inplace=True)\n",
    "all_df_loaded.sort_index(inplace=True)"
   ]
  },
  {
   "cell_type": "code",
   "execution_count": 7,
   "id": "5c7099df",
   "metadata": {},
   "outputs": [
    {
     "name": "stdout",
     "output_type": "stream",
     "text": [
      "Mean IC: -0.0144855946\n"
     ]
    }
   ],
   "source": [
    "import pandas as pd\n",
    "import numpy as np\n",
    "from scipy.stats import spearmanr\n",
    "\n",
    "\n",
    "# 读取合并后的数据\n",
    "all_df_loaded = pd.read_csv(\"all_stock_data.csv\", parse_dates=['date'])\n",
    "all_df_loaded.set_index(['stock_code', 'date'], inplace=True)\n",
    "all_df_loaded.sort_index(inplace=True)\n",
    "\n",
    "\n",
    "# 定义你的因子函数，输入为单个股票的DataFrame\n",
    "def factor_func(df, lookback_period_vwma=20, lookback_period_momentum=10, market_regime='Neutral'):\n",
    "    close = df['close']\n",
    "    volume = df['volume']\n",
    "\n",
    "    # VWMA Calculation\n",
    "    vwma = (close * volume).rolling(window=lookback_period_vwma, min_periods=lookback_period_vwma//2).sum() / \\\n",
    "           volume.rolling(window=lookback_period_vwma, min_periods=lookback_period_vwma//2).sum()\n",
    "\n",
    "    # VWMA Smoothed\n",
    "    vwma_smoothed = vwma.ewm(span=lookback_period_vwma, adjust=False).mean()\n",
    "\n",
    "    # Price Momentum\n",
    "    returns = close.pct_change(lookback_period_momentum)\n",
    "    momentum_smoothed = returns.ewm(span=lookback_period_momentum, adjust=False).mean()\n",
    "\n",
    "    # Rolling Normalization Parameters\n",
    "    rolling_window = 252\n",
    "    minp = 60\n",
    "\n",
    "    # Normalize VWMA and Momentum (no lookahead)\n",
    "    vwma_mean = vwma_smoothed.rolling(rolling_window, min_periods=minp).mean().shift(1)\n",
    "    vwma_std = vwma_smoothed.rolling(rolling_window, min_periods=minp).std().shift(1)\n",
    "    vwma_normalized = (vwma_smoothed - vwma_mean) / vwma_std\n",
    "\n",
    "    momentum_mean = momentum_smoothed.rolling(rolling_window, min_periods=minp).mean().shift(1)\n",
    "    momentum_std = momentum_smoothed.rolling(rolling_window, min_periods=minp).std().shift(1)\n",
    "    momentum_normalized = (momentum_smoothed - momentum_mean) / momentum_std\n",
    "\n",
    "    # Combine Factors Based on Market Regime\n",
    "    if market_regime.lower() == 'bullish':\n",
    "        factor = 0.7 * vwma_normalized + 0.3 * momentum_normalized\n",
    "    elif market_regime.lower() == 'bearish':\n",
    "        factor = 0.3 * vwma_normalized + 0.7 * momentum_normalized\n",
    "    else:  # Neutral or Sideways\n",
    "        factor = 0.5 * vwma_normalized + 0.5 * momentum_normalized\n",
    "\n",
    "    return factor.shift(1)  # Shift to avoid lookahead\n",
    "\n",
    "# 计算每只股票的因子值\n",
    "all_df_loaded['factor'] = all_df_loaded.groupby('stock_code').apply(lambda g: factor_func(g)).reset_index(level=0, drop=True)\n",
    "\n",
    "# 计算未来6日收益率\n",
    "all_df_loaded['future_return_6d'] = all_df_loaded.groupby('stock_code')['close'].shift(-6) / all_df_loaded['close'] - 1\n",
    "\n",
    "# 取所有日期\n",
    "start_date = pd.Timestamp('2021-01-01')\n",
    "end_date = pd.Timestamp('2024-01-01')\n",
    "all_dates = all_df_loaded.index.get_level_values('date').unique()\n",
    "all_dates = all_dates[(all_dates >= start_date) & (all_dates <= end_date)]\n",
    "ic_values = []\n",
    "\n",
    "for date in all_dates:\n",
    "    daily = all_df_loaded.xs(date, level='date')\n",
    "    factors = daily['factor']\n",
    "    returns = daily['future_return_6d']\n",
    "    mask = factors.notna() & returns.notna()\n",
    "    if mask.sum() >= 10:\n",
    "        ic, _ = spearmanr(factors[mask], returns[mask])\n",
    "        if not np.isnan(ic):\n",
    "            ic_values.append(ic)\n",
    "\n",
    "mean_ic = np.mean(ic_values)\n",
    "print(f\"Mean IC: {mean_ic:.10f}\")"
   ]
  }
 ],
 "metadata": {
  "kernelspec": {
   "display_name": "StockPred",
   "language": "python",
   "name": "python3"
  },
  "language_info": {
   "codemirror_mode": {
    "name": "ipython",
    "version": 3
   },
   "file_extension": ".py",
   "mimetype": "text/x-python",
   "name": "python",
   "nbconvert_exporter": "python",
   "pygments_lexer": "ipython3",
   "version": "3.11.11"
  }
 },
 "nbformat": 4,
 "nbformat_minor": 5
}
